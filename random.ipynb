{
 "cells": [
  {
   "cell_type": "code",
   "execution_count": null,
   "metadata": {},
   "outputs": [],
   "source": [
    "# !pip3 install nltk==3.2.4\n",
    "# !wget http://nlp.stanford.edu/software/stanford-ner-2015-04-20.zip\n",
    "# !unzip stanford-ner-2015-04-20.zip"
   ]
  },
  {
   "cell_type": "code",
   "execution_count": 144,
   "metadata": {},
   "outputs": [],
   "source": [
    "import json\n",
    "import jsonlines\n",
    "import pandas as pd"
   ]
  },
  {
   "cell_type": "markdown",
   "metadata": {},
   "source": [
    "## Using NLTK\n",
    "For playing around with it to familiarize oneself."
   ]
  },
  {
   "cell_type": "code",
   "execution_count": 29,
   "metadata": {},
   "outputs": [],
   "source": [
    "\n",
    "from nltk.tag.stanford import StanfordNERTagger\n",
    "jar = \"stanford-ner-2015-04-20/stanford-ner-3.5.2.jar\"\n",
    "model = \"stanford-ner-2015-04-20/classifiers/\" \n",
    "\n",
    "st_3class = StanfordNERTagger(model + \"english.all.3class.distsim.crf.ser.gz\", jar, encoding='utf8') \n",
    "st_4class = StanfordNERTagger(model + \"english.conll.4class.distsim.crf.ser.gz\", jar, encoding='utf8') \n",
    "st_7class = StanfordNERTagger(model + \"english.muc.7class.distsim.crf.ser.gz\", jar, encoding='utf8')"
   ]
  },
  {
   "cell_type": "code",
   "execution_count": 94,
   "metadata": {},
   "outputs": [],
   "source": [
    "test_fn =  \"../floresp-v2.0-rc.3/devtest/devtest.eng_Latn\"\n",
    "# test_fn = \"hello.txt\"\n",
    "with open(test_fn, \"r\") as f:\n",
    "    devtest_en = [line.strip() for line in f.readlines()]"
   ]
  },
  {
   "cell_type": "code",
   "execution_count": 38,
   "metadata": {},
   "outputs": [
    {
     "name": "stdout",
     "output_type": "stream",
     "text": [
      "[('These', 'O'), ('are', 'O'), ('28', 'O'), ('numbers', 'O'), ('in', 'O'), ('1996', 'DATE'), ('that', 'O'), ('had', 'O'), ('99%.', 'O')]\n",
      "[('I', 'O'), ('am', 'O'), ('doing', 'O'), ('interesting', 'O'), ('three', 'O'), ('things.', 'O'), ('But', 'O'), ('I', 'O'), ('have', 'O'), ('to', 'O'), ('leave', 'O'), ('at', 'O'), ('9:00', 'TIME'), ('am.', 'TIME')]\n",
      "[('I', 'O'), ('went', 'O'), ('there', 'O'), ('for', 'O'), ('2', 'O'), ('weeks.', 'O')]\n",
      "[('She', 'O'), ('drove', 'O'), ('for', 'O'), ('92', 'O'), ('km.', 'O')]\n"
     ]
    }
   ],
   "source": [
    "for line in devtest_en:\n",
    "    print(st_7class.tag(line.split()))"
   ]
  },
  {
   "cell_type": "markdown",
   "metadata": {},
   "source": [
    "# Using Stanford CoreNLP to run\n",
    "Downloaod [CoreNLP](https://stanfordnlp.github.io/CoreNLP/) (Java) and run it.\n",
    "\n",
    "Input: The English text file to annotate\n",
    "\n",
    "Output: A JSON file of lines with numerical text"
   ]
  },
  {
   "cell_type": "code",
   "execution_count": 127,
   "metadata": {},
   "outputs": [],
   "source": [
    "test_fn =  \"../floresp-v2.0-rc.3/devtest/devtest.eng_Latn\"\n",
    "with open(test_fn, \"r\") as f:\n",
    "    devtest_en = [line.strip() for line in f.readlines()]"
   ]
  },
  {
   "cell_type": "code",
   "execution_count": 41,
   "metadata": {},
   "outputs": [
    {
     "name": "stdout",
     "output_type": "stream",
     "text": [
      "/Users/ogayo/dev/wmt_2024_main/wmt_24_work\n"
     ]
    }
   ],
   "source": [
    "!pwd"
   ]
  },
  {
   "cell_type": "code",
   "execution_count": 66,
   "metadata": {},
   "outputs": [
    {
     "name": "stdout",
     "output_type": "stream",
     "text": [
      "[main] INFO edu.stanford.nlp.pipeline.StanfordCoreNLP - Adding annotator tokenize\n",
      "[main] INFO edu.stanford.nlp.pipeline.StanfordCoreNLP - Adding annotator pos\n",
      "[main] INFO edu.stanford.nlp.tagger.maxent.MaxentTagger - Loading POS tagger from edu/stanford/nlp/models/pos-tagger/english-left3words-distsim.tagger ... done [0.6 sec].\n",
      "[main] INFO edu.stanford.nlp.pipeline.StanfordCoreNLP - Adding annotator lemma\n",
      "[main] INFO edu.stanford.nlp.pipeline.StanfordCoreNLP - Adding annotator ner\n",
      "[main] INFO edu.stanford.nlp.time.JollyDayHolidays - Initializing JollyDayHoliday for SUTime from classpath edu/stanford/nlp/models/sutime/jollyday/Holidays_sutime.xml as sutime.binder.1.\n",
      "[main] INFO edu.stanford.nlp.time.TimeExpressionExtractorImpl - Using following SUTime rules: edu/stanford/nlp/models/sutime/defs.sutime.txt,edu/stanford/nlp/models/sutime/english.sutime.txt,edu/stanford/nlp/models/sutime/english.holidays.sutime.txt\n",
      "[main] INFO edu.stanford.nlp.pipeline.TokensRegexNERAnnotator - ner.fine.regexner: Read 580705 unique entries out of 581864 from edu/stanford/nlp/models/kbp/english/gazetteers/regexner_caseless.tab, 0 TokensRegex patterns.\n",
      "[main] INFO edu.stanford.nlp.pipeline.TokensRegexNERAnnotator - ner.fine.regexner: Read 4867 unique entries out of 4867 from edu/stanford/nlp/models/kbp/english/gazetteers/regexner_cased.tab, 0 TokensRegex patterns.\n",
      "[main] INFO edu.stanford.nlp.pipeline.TokensRegexNERAnnotator - ner.fine.regexner: Read 585572 unique entries from 2 files\n",
      "[main] INFO edu.stanford.nlp.pipeline.NERCombinerAnnotator - numeric classifiers: true; SUTime: true [no docDate]; fine grained: true\n",
      "\n",
      "Processing file /Users/ogayo/dev/wmt_2024_main/stanford-corenlp-4.5.7/../floresp-v2.0-rc.3/devtest/devtest.eng_Latn ... writing to /Users/ogayo/dev/wmt_2024_main/stanford-corenlp-4.5.7/annotation_output/devtest.eng_Latn.json\n",
      "Annotating file /Users/ogayo/dev/wmt_2024_main/stanford-corenlp-4.5.7/../floresp-v2.0-rc.3/devtest/devtest.eng_Latn ... done [27.8 sec].\n",
      "\n",
      "Annotation pipeline timing information:\n",
      "TokenizerAnnotator: 0.1 sec.\n",
      "POSTaggerAnnotator: 3.1 sec.\n",
      "MorphaAnnotator: 0.1 sec.\n",
      "NERCombinerAnnotator: 24.5 sec.\n",
      "TOTAL: 27.8 sec. for 25039 tokens at 899.8 tokens/sec.\n",
      "Pipeline setup: 3.9 sec.\n",
      "Total time for StanfordCoreNLP pipeline: 32.0 sec.\n"
     ]
    }
   ],
   "source": [
    "!cd  ../stanford-corenlp-4.5.7/ && java -cp \"*\" edu.stanford.nlp.pipeline.StanfordCoreNLP -annotators tokenize,pos,lemma,ner -ner.rulesOnly -file \"../floresp-v2.0-rc.3/devtest/devtest.eng_Latn\" -outputFormat json -outputDirectory annotation_output -ssplit.eolonly"
   ]
  },
  {
   "cell_type": "code",
   "execution_count": 67,
   "metadata": {},
   "outputs": [],
   "source": [
    "output_fn = \"/Users/ogayo/dev/wmt_2024_main/stanford-corenlp-4.5.7/annotation_output/devtest.eng_Latn.json\""
   ]
  },
  {
   "cell_type": "code",
   "execution_count": 68,
   "metadata": {},
   "outputs": [],
   "source": [
    "with open(output_fn, \"r\") as f:\n",
    "    data = json.load(f)"
   ]
  },
  {
   "cell_type": "code",
   "execution_count": 69,
   "metadata": {},
   "outputs": [
    {
     "data": {
      "text/plain": [
       "2"
      ]
     },
     "execution_count": 69,
     "metadata": {},
     "output_type": "execute_result"
    }
   ],
   "source": [
    "len(data)"
   ]
  },
  {
   "cell_type": "code",
   "execution_count": 70,
   "metadata": {},
   "outputs": [
    {
     "data": {
      "text/plain": [
       "dict_keys(['docId', 'sentences'])"
      ]
     },
     "execution_count": 70,
     "metadata": {},
     "output_type": "execute_result"
    }
   ],
   "source": [
    "data.keys()"
   ]
  },
  {
   "cell_type": "code",
   "execution_count": 71,
   "metadata": {},
   "outputs": [
    {
     "data": {
      "text/plain": [
       "1012"
      ]
     },
     "execution_count": 71,
     "metadata": {},
     "output_type": "execute_result"
    }
   ],
   "source": [
    "len(data['sentences'])"
   ]
  },
  {
   "cell_type": "code",
   "execution_count": 75,
   "metadata": {},
   "outputs": [
    {
     "data": {
      "text/plain": [
       "[{'docTokenBegin': 2,\n",
       "  'docTokenEnd': 3,\n",
       "  'tokenBegin': 2,\n",
       "  'tokenEnd': 3,\n",
       "  'text': 'now',\n",
       "  'characterOffsetBegin': 4,\n",
       "  'characterOffsetEnd': 7,\n",
       "  'ner': 'DATE',\n",
       "  'normalizedNER': 'PRESENT_REF',\n",
       "  'nerConfidences': {'DATE': -1},\n",
       "  'timex': {'tid': 't1', 'type': 'DATE', 'value': 'PRESENT_REF'}},\n",
       " {'docTokenBegin': 4,\n",
       "  'docTokenEnd': 9,\n",
       "  'tokenBegin': 4,\n",
       "  'tokenEnd': 9,\n",
       "  'text': '4-month-old',\n",
       "  'characterOffsetBegin': 13,\n",
       "  'characterOffsetEnd': 24,\n",
       "  'ner': 'DURATION',\n",
       "  'normalizedNER': 'P4M',\n",
       "  'nerConfidences': {'DURATION': -1},\n",
       "  'timex': {'tid': 't2', 'type': 'DURATION', 'value': 'P4M'}},\n",
       " {'docTokenBegin': 20,\n",
       "  'docTokenEnd': 21,\n",
       "  'tokenBegin': 20,\n",
       "  'tokenEnd': 21,\n",
       "  'text': 'he',\n",
       "  'characterOffsetBegin': 79,\n",
       "  'characterOffsetEnd': 81,\n",
       "  'ner': 'PERSON'}]"
      ]
     },
     "execution_count": 75,
     "metadata": {},
     "output_type": "execute_result"
    }
   ],
   "source": [
    "data['sentences'][0]['entitymentions']"
   ]
  },
  {
   "cell_type": "code",
   "execution_count": 118,
   "metadata": {},
   "outputs": [],
   "source": [
    "\"\"\"\n",
    "source = https://stanfordnlp.github.io/CoreNLP/ner.html#description\n",
    "For English, by default, this annotator recognizes named (PERSON, LOCATION, ORGANIZATION, MISC), \n",
    "numerical (MONEY, NUMBER, ORDINAL, PERCENT), and temporal (DATE, TIME, DURATION, SET) entities (12 classes).\n",
    "\"\"\"\n",
    "numerical_categories = [\"MONEY\", \"NUMBER\", \"ORDINAL\", \"PERCENT\", \"DATE\", \"TIME\", \"DURATION\"]"
   ]
  },
  {
   "cell_type": "code",
   "execution_count": 128,
   "metadata": {},
   "outputs": [],
   "source": [
    "numerical_lines_dict = {}\n",
    "line_number_categories_dict = [] # To create a jsonline where each line will be {\"MONEY\":True, \"NUMBER\":False, \"ORDINAL\", etc}\n",
    "for sent in data['sentences']:\n",
    "    for entity  in sent['entitymentions']:\n",
    "        default_line_dict = {\"INDEX\": None,\"TEXT\":None, \"MONEY\": False, \"NUMBER\":False, \"ORDINAL\":False, \"PERCENT\":False, \"DATE\":False, \"TIME\":False, \"DURATION\":False}\n",
    "        if entity['ner'] in numerical_categories:\n",
    "            if numerical_lines_dict.get(sent['index']):\n",
    "                numerical_lines_dict[sent['index']] = numerical_lines_dict.get(sent['index'], 0) + 1\n",
    "                default_line_dict[entity['ner']] =  default_line_dict.get(entity['ner']) + 1  if default_line_dict[entity['ner']] else 1\n",
    "            else:\n",
    "                numerical_lines_dict[sent['index']] = 1\n",
    "                default_line_dict[\"INDEX\"] = sent['index']\n",
    "                default_line_dict[\"TEXT\"] = devtest_en[sent['index']]\n",
    "                default_line_dict[entity['ner']] = 1\n",
    "                line_number_categories_dict.append(default_line_dict)\n"
   ]
  },
  {
   "cell_type": "code",
   "execution_count": 129,
   "metadata": {},
   "outputs": [
    {
     "data": {
      "text/plain": [
       "417"
      ]
     },
     "execution_count": 129,
     "metadata": {},
     "output_type": "execute_result"
    }
   ],
   "source": [
    "len(line_number_categories_dict)"
   ]
  },
  {
   "cell_type": "code",
   "execution_count": 130,
   "metadata": {},
   "outputs": [
    {
     "data": {
      "text/plain": [
       "({'INDEX': 1,\n",
       "  'TEXT': 'Dr. Ehud Ur, professor of medicine at Dalhousie University in Halifax, Nova Scotia and chair of the clinical and scientific division of the Canadian Diabetes Association cautioned that the research is still in its early days.',\n",
       "  'MONEY': False,\n",
       "  'NUMBER': False,\n",
       "  'ORDINAL': False,\n",
       "  'PERCENT': False,\n",
       "  'DATE': False,\n",
       "  'TIME': False,\n",
       "  'DURATION': 1},\n",
       " 'Dr. Ehud Ur, professor of medicine at Dalhousie University in Halifax, Nova Scotia and chair of the clinical and scientific division of the Canadian Diabetes Association cautioned that the research is still in its early days.')"
      ]
     },
     "execution_count": 130,
     "metadata": {},
     "output_type": "execute_result"
    }
   ],
   "source": [
    "line_number_categories_dict[1], devtest_en[1]"
   ]
  },
  {
   "cell_type": "code",
   "execution_count": 131,
   "metadata": {},
   "outputs": [
    {
     "data": {
      "text/plain": [
       "417"
      ]
     },
     "execution_count": 131,
     "metadata": {},
     "output_type": "execute_result"
    }
   ],
   "source": [
    "len(numerical_lines_dict)"
   ]
  },
  {
   "cell_type": "code",
   "execution_count": 132,
   "metadata": {},
   "outputs": [
    {
     "data": {
      "text/plain": [
       "dict_keys([0, 1, 2, 3, 4, 5, 7, 8, 10, 11, 12, 18, 19, 23, 24, 27, 33, 34, 41, 42, 43, 44, 46, 48, 50, 51, 53, 54, 55, 56, 59, 60, 63, 64, 65, 66, 67, 68, 70, 71, 73, 74, 77, 80, 82, 83, 84, 85, 86, 87, 99, 100, 101, 102, 107, 108, 109, 110, 111, 112, 115, 116, 117, 118, 119, 120, 121, 123, 124, 132, 134, 136, 137, 139, 141, 144, 152, 153, 157, 158, 159, 160, 165, 166, 167, 168, 170, 171, 173, 174, 177, 178, 179, 180, 181, 183, 184, 185, 191, 193, 194, 196, 199, 200, 201, 202, 203, 204, 205, 206, 213, 214, 215, 221, 222, 223, 225, 226, 227, 228, 230, 232, 234, 236, 237, 244, 247, 248, 250, 251, 253, 254, 255, 257, 261, 265, 266, 268, 269, 271, 273, 274, 275, 276, 278, 281, 291, 292, 293, 296, 297, 298, 299, 300, 301, 302, 303, 304, 306, 311, 312, 315, 318, 320, 322, 323, 324, 325, 326, 328, 329, 332, 334, 339, 340, 347, 348, 356, 363, 366, 367, 371, 376, 382, 387, 399, 403, 404, 407, 408, 409, 414, 418, 420, 421, 423, 424, 425, 426, 427, 429, 430, 431, 432, 433, 438, 440, 441, 443, 446, 447, 448, 449, 451, 453, 454, 456, 460, 461, 463, 464, 471, 474, 478, 479, 480, 482, 483, 489, 490, 492, 494, 495, 503, 516, 519, 520, 521, 522, 525, 527, 532, 533, 536, 537, 538, 544, 545, 546, 547, 548, 551, 554, 556, 557, 558, 561, 562, 564, 565, 568, 569, 570, 571, 572, 573, 576, 577, 578, 581, 585, 587, 592, 599, 601, 609, 613, 614, 616, 618, 621, 622, 625, 626, 627, 628, 630, 631, 636, 637, 638, 645, 646, 651, 657, 658, 660, 666, 668, 672, 682, 685, 689, 690, 691, 692, 701, 704, 707, 708, 710, 713, 716, 718, 719, 720, 723, 724, 726, 731, 732, 734, 735, 736, 737, 738, 740, 742, 743, 744, 745, 747, 748, 749, 750, 751, 752, 754, 759, 760, 761, 762, 764, 768, 769, 770, 771, 773, 778, 783, 785, 788, 792, 795, 797, 806, 811, 812, 813, 814, 815, 816, 817, 821, 830, 833, 839, 841, 845, 851, 852, 858, 861, 866, 870, 871, 881, 886, 889, 890, 891, 896, 898, 903, 904, 907, 908, 914, 917, 920, 921, 923, 924, 931, 933, 934, 939, 940, 942, 943, 944, 947, 949, 956, 967, 969, 971, 982, 983, 985, 987, 988, 997, 999, 1000, 1001, 1005])"
      ]
     },
     "execution_count": 132,
     "metadata": {},
     "output_type": "execute_result"
    }
   ],
   "source": [
    "numerical_lines_dict.keys()"
   ]
  },
  {
   "cell_type": "code",
   "execution_count": 133,
   "metadata": {},
   "outputs": [
    {
     "data": {
      "text/plain": [
       "24"
      ]
     },
     "execution_count": 133,
     "metadata": {},
     "output_type": "execute_result"
    }
   ],
   "source": [
    "\"\"\"\n",
    "So the rule based duration tagger tags things like \"early\" as duration.\n",
    "So I ran one excluding duration (393 lines)and one with duration (417 lines). \n",
    "The extra 24 lines should be mannually inspected to see if they fit\n",
    "Also date needs to be worked on. Core NLP will select seasons such as winter as DATE.\n",
    "\n",
    "\"\"\"\n",
    "# without_duration_only = set(numerical_lines_dict.keys())\n",
    "duration_only = set(numerical_lines_dict.keys()) - set(without_duration_only)\n",
    "len(duration_only)"
   ]
  },
  {
   "cell_type": "code",
   "execution_count": 135,
   "metadata": {},
   "outputs": [
    {
     "name": "stdout",
     "output_type": "stream",
     "text": [
      "{1, 387, 783, 914, 409, 546, 931, 806, 170, 811, 690, 947, 821, 438, 441, 443, 70, 861, 738, 748, 494, 111, 244, 630}\n"
     ]
    }
   ],
   "source": [
    "print(duration_only)"
   ]
  },
  {
   "cell_type": "code",
   "execution_count": 136,
   "metadata": {},
   "outputs": [
    {
     "data": {
      "text/plain": [
       "{'INDEX': 0,\n",
       " 'TEXT': '\"We now have 4-month-old mice that are non-diabetic that used to be diabetic,\" he added.',\n",
       " 'MONEY': False,\n",
       " 'NUMBER': False,\n",
       " 'ORDINAL': False,\n",
       " 'PERCENT': False,\n",
       " 'DATE': 1,\n",
       " 'TIME': False,\n",
       " 'DURATION': False}"
      ]
     },
     "execution_count": 136,
     "metadata": {},
     "output_type": "execute_result"
    }
   ],
   "source": [
    "line_number_categories_dict[0]"
   ]
  },
  {
   "cell_type": "code",
   "execution_count": 150,
   "metadata": {},
   "outputs": [],
   "source": [
    "final_output_fn = \"flores_with_numbers\""
   ]
  },
  {
   "cell_type": "code",
   "execution_count": 151,
   "metadata": {},
   "outputs": [],
   "source": [
    "with open(final_output_fn+\".json\", 'w') as f:\n",
    "    for dictionary in line_number_categories_dict:\n",
    "        f.write(json.dumps(dictionary)+'\\n')"
   ]
  },
  {
   "cell_type": "code",
   "execution_count": 152,
   "metadata": {},
   "outputs": [
    {
     "data": {
      "text/html": [
       "<div>\n",
       "<style scoped>\n",
       "    .dataframe tbody tr th:only-of-type {\n",
       "        vertical-align: middle;\n",
       "    }\n",
       "\n",
       "    .dataframe tbody tr th {\n",
       "        vertical-align: top;\n",
       "    }\n",
       "\n",
       "    .dataframe thead th {\n",
       "        text-align: right;\n",
       "    }\n",
       "</style>\n",
       "<table border=\"1\" class=\"dataframe\">\n",
       "  <thead>\n",
       "    <tr style=\"text-align: right;\">\n",
       "      <th></th>\n",
       "      <th>INDEX</th>\n",
       "      <th>TEXT</th>\n",
       "      <th>MONEY</th>\n",
       "      <th>NUMBER</th>\n",
       "      <th>ORDINAL</th>\n",
       "      <th>PERCENT</th>\n",
       "      <th>DATE</th>\n",
       "      <th>TIME</th>\n",
       "      <th>DURATION</th>\n",
       "    </tr>\n",
       "  </thead>\n",
       "  <tbody>\n",
       "    <tr>\n",
       "      <th>0</th>\n",
       "      <td>0</td>\n",
       "      <td>\"We now have 4-month-old mice that are non-dia...</td>\n",
       "      <td>0</td>\n",
       "      <td>0</td>\n",
       "      <td>0</td>\n",
       "      <td>0</td>\n",
       "      <td>1</td>\n",
       "      <td>0</td>\n",
       "      <td>0</td>\n",
       "    </tr>\n",
       "    <tr>\n",
       "      <th>1</th>\n",
       "      <td>1</td>\n",
       "      <td>Dr. Ehud Ur, professor of medicine at Dalhousi...</td>\n",
       "      <td>0</td>\n",
       "      <td>0</td>\n",
       "      <td>0</td>\n",
       "      <td>0</td>\n",
       "      <td>0</td>\n",
       "      <td>0</td>\n",
       "      <td>1</td>\n",
       "    </tr>\n",
       "    <tr>\n",
       "      <th>2</th>\n",
       "      <td>2</td>\n",
       "      <td>Like some other experts, he is skeptical about...</td>\n",
       "      <td>0</td>\n",
       "      <td>1</td>\n",
       "      <td>0</td>\n",
       "      <td>0</td>\n",
       "      <td>0</td>\n",
       "      <td>0</td>\n",
       "      <td>0</td>\n",
       "    </tr>\n",
       "    <tr>\n",
       "      <th>3</th>\n",
       "      <td>3</td>\n",
       "      <td>On Monday, Sara Danius, permanent secretary of...</td>\n",
       "      <td>0</td>\n",
       "      <td>0</td>\n",
       "      <td>0</td>\n",
       "      <td>0</td>\n",
       "      <td>1</td>\n",
       "      <td>0</td>\n",
       "      <td>0</td>\n",
       "    </tr>\n",
       "    <tr>\n",
       "      <th>4</th>\n",
       "      <td>4</td>\n",
       "      <td>Danius said, \"Right now we are doing nothing. ...</td>\n",
       "      <td>0</td>\n",
       "      <td>0</td>\n",
       "      <td>0</td>\n",
       "      <td>0</td>\n",
       "      <td>1</td>\n",
       "      <td>0</td>\n",
       "      <td>0</td>\n",
       "    </tr>\n",
       "  </tbody>\n",
       "</table>\n",
       "</div>"
      ],
      "text/plain": [
       "   INDEX                                               TEXT  MONEY  NUMBER  \\\n",
       "0      0  \"We now have 4-month-old mice that are non-dia...      0       0   \n",
       "1      1  Dr. Ehud Ur, professor of medicine at Dalhousi...      0       0   \n",
       "2      2  Like some other experts, he is skeptical about...      0       1   \n",
       "3      3  On Monday, Sara Danius, permanent secretary of...      0       0   \n",
       "4      4  Danius said, \"Right now we are doing nothing. ...      0       0   \n",
       "\n",
       "   ORDINAL  PERCENT  DATE  TIME  DURATION  \n",
       "0        0        0     1     0         0  \n",
       "1        0        0     0     0         1  \n",
       "2        0        0     0     0         0  \n",
       "3        0        0     1     0         0  \n",
       "4        0        0     1     0         0  "
      ]
     },
     "execution_count": 152,
     "metadata": {},
     "output_type": "execute_result"
    }
   ],
   "source": [
    "df = pd.read_json(final_output_fn+\".json\", lines=True, orient='records')\n",
    "df.head()"
   ]
  },
  {
   "cell_type": "code",
   "execution_count": 153,
   "metadata": {},
   "outputs": [],
   "source": [
    "df.to_csv(final_output_fn+\".csv\", index=False)"
   ]
  }
 ],
 "metadata": {
  "kernelspec": {
   "display_name": "wmt-env",
   "language": "python",
   "name": "python3"
  },
  "language_info": {
   "codemirror_mode": {
    "name": "ipython",
    "version": 3
   },
   "file_extension": ".py",
   "mimetype": "text/x-python",
   "name": "python",
   "nbconvert_exporter": "python",
   "pygments_lexer": "ipython3",
   "version": "3.12.2"
  }
 },
 "nbformat": 4,
 "nbformat_minor": 2
}
